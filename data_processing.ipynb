{
 "cells": [
  {
   "cell_type": "code",
   "execution_count": 3,
   "metadata": {
    "collapsed": true,
    "ExecuteTime": {
     "start_time": "2023-04-19T10:39:50.923075Z",
     "end_time": "2023-04-19T10:39:51.022478Z"
    }
   },
   "outputs": [],
   "source": [
    "import pandas as pd"
   ]
  },
  {
   "cell_type": "code",
   "execution_count": 4,
   "outputs": [
    {
     "data": {
      "text/plain": "                                     name   \n0  Adidas samba og cloud white core black  \\\n1                     Jogging Adidas Noir   \n2                           Adidas Ozelia   \n3                    Ensemble adidas noir   \n4                             Adidas cuir   \n\n                                                link              category   \n0  https://www.vinted.fr/femmes/chaussures/basket...               Baskets  \\\n1  https://www.vinted.fr/femmes/vetements/vetemen...          Survêtements   \n2  https://www.vinted.fr/hommes/chaussures/basket...               Baskets   \n3  https://www.vinted.fr/enfants/garcons/autres/2...                Autres   \n4  https://www.vinted.fr/hommes/chaussures/chauss...  Chaussures de tennis   \n\n           subcategory  price                 size            condition   \n0           Chaussures  150.0                   38  NEUF AVEC ÉTIQUETTE  \\\n1   Vêtements de sport   29.0           S / 36 / 8        TRÈS BON ÉTAT   \n2           Chaussures   80.0                   44  NEUF AVEC ÉTIQUETTE   \n3              Garçons   40.0  13 ANS / 152-158 CM  NEUF SANS ÉTIQUETTE   \n4  Chaussures de sport   12.0                   41             BON ÉTAT   \n\n           color  views  interested  \n0    NOIR, BLANC     12         1.0  \n1           NOIR    330        42.0  \n2  ORANGE, BLANC    119         NaN  \n3           NOIR     78         3.0  \n4          BLANC     92         NaN  ",
      "text/html": "<div>\n<style scoped>\n    .dataframe tbody tr th:only-of-type {\n        vertical-align: middle;\n    }\n\n    .dataframe tbody tr th {\n        vertical-align: top;\n    }\n\n    .dataframe thead th {\n        text-align: right;\n    }\n</style>\n<table border=\"1\" class=\"dataframe\">\n  <thead>\n    <tr style=\"text-align: right;\">\n      <th></th>\n      <th>name</th>\n      <th>link</th>\n      <th>category</th>\n      <th>subcategory</th>\n      <th>price</th>\n      <th>size</th>\n      <th>condition</th>\n      <th>color</th>\n      <th>views</th>\n      <th>interested</th>\n    </tr>\n  </thead>\n  <tbody>\n    <tr>\n      <th>0</th>\n      <td>Adidas samba og cloud white core black</td>\n      <td>https://www.vinted.fr/femmes/chaussures/basket...</td>\n      <td>Baskets</td>\n      <td>Chaussures</td>\n      <td>150.0</td>\n      <td>38</td>\n      <td>NEUF AVEC ÉTIQUETTE</td>\n      <td>NOIR, BLANC</td>\n      <td>12</td>\n      <td>1.0</td>\n    </tr>\n    <tr>\n      <th>1</th>\n      <td>Jogging Adidas Noir</td>\n      <td>https://www.vinted.fr/femmes/vetements/vetemen...</td>\n      <td>Survêtements</td>\n      <td>Vêtements de sport</td>\n      <td>29.0</td>\n      <td>S / 36 / 8</td>\n      <td>TRÈS BON ÉTAT</td>\n      <td>NOIR</td>\n      <td>330</td>\n      <td>42.0</td>\n    </tr>\n    <tr>\n      <th>2</th>\n      <td>Adidas Ozelia</td>\n      <td>https://www.vinted.fr/hommes/chaussures/basket...</td>\n      <td>Baskets</td>\n      <td>Chaussures</td>\n      <td>80.0</td>\n      <td>44</td>\n      <td>NEUF AVEC ÉTIQUETTE</td>\n      <td>ORANGE, BLANC</td>\n      <td>119</td>\n      <td>NaN</td>\n    </tr>\n    <tr>\n      <th>3</th>\n      <td>Ensemble adidas noir</td>\n      <td>https://www.vinted.fr/enfants/garcons/autres/2...</td>\n      <td>Autres</td>\n      <td>Garçons</td>\n      <td>40.0</td>\n      <td>13 ANS / 152-158 CM</td>\n      <td>NEUF SANS ÉTIQUETTE</td>\n      <td>NOIR</td>\n      <td>78</td>\n      <td>3.0</td>\n    </tr>\n    <tr>\n      <th>4</th>\n      <td>Adidas cuir</td>\n      <td>https://www.vinted.fr/hommes/chaussures/chauss...</td>\n      <td>Chaussures de tennis</td>\n      <td>Chaussures de sport</td>\n      <td>12.0</td>\n      <td>41</td>\n      <td>BON ÉTAT</td>\n      <td>BLANC</td>\n      <td>92</td>\n      <td>NaN</td>\n    </tr>\n  </tbody>\n</table>\n</div>"
     },
     "execution_count": 4,
     "metadata": {},
     "output_type": "execute_result"
    }
   ],
   "source": [
    "df = pd.read_csv('adidas_items2.csv')\n",
    "df.head()"
   ],
   "metadata": {
    "collapsed": false,
    "ExecuteTime": {
     "start_time": "2023-04-19T10:39:50.938726Z",
     "end_time": "2023-04-19T10:39:51.202173Z"
    }
   }
  },
  {
   "cell_type": "code",
   "execution_count": 5,
   "outputs": [
    {
     "data": {
      "text/plain": "0"
     },
     "execution_count": 5,
     "metadata": {},
     "output_type": "execute_result"
    }
   ],
   "source": [
    "df.interested.fillna(0,inplace=True)\n",
    "df.interested.isna().sum()"
   ],
   "metadata": {
    "collapsed": false,
    "ExecuteTime": {
     "start_time": "2023-04-19T10:39:51.056477Z",
     "end_time": "2023-04-19T10:39:51.249710Z"
    }
   }
  },
  {
   "cell_type": "code",
   "execution_count": 6,
   "outputs": [
    {
     "data": {
      "text/plain": "0             Chaussures\n1     Vêtements de sport\n2             Chaussures\n3                Garçons\n4    Chaussures de sport\nName: category, dtype: object"
     },
     "execution_count": 6,
     "metadata": {},
     "output_type": "execute_result"
    }
   ],
   "source": [
    "df.category,df.subcategory = df.subcategory,df.category\n",
    "df.category.head()"
   ],
   "metadata": {
    "collapsed": false,
    "ExecuteTime": {
     "start_time": "2023-04-19T10:39:51.127208Z",
     "end_time": "2023-04-19T10:39:51.308550Z"
    }
   }
  },
  {
   "cell_type": "code",
   "execution_count": 7,
   "outputs": [
    {
     "data": {
      "text/plain": "condition\nTRÈS BON ÉTAT          240\nNEUF AVEC ÉTIQUETTE     76\nNEUF SANS ÉTIQUETTE     76\nBON ÉTAT                40\nSATISFAISANT            20\nName: count, dtype: int64"
     },
     "execution_count": 7,
     "metadata": {},
     "output_type": "execute_result"
    }
   ],
   "source": [
    "df.condition.value_counts()"
   ],
   "metadata": {
    "collapsed": false,
    "ExecuteTime": {
     "start_time": "2023-04-19T10:39:51.158067Z",
     "end_time": "2023-04-19T10:39:51.341424Z"
    }
   }
  },
  {
   "cell_type": "code",
   "execution_count": 8,
   "outputs": [
    {
     "data": {
      "text/plain": "['SATISFAISANT',\n 'BON ÉTAT',\n 'TRÈS BON ÉTAT',\n 'NEUF SANS ÉTIQUETTE',\n 'NEUF AVEC ÉTIQUETTE']"
     },
     "execution_count": 8,
     "metadata": {},
     "output_type": "execute_result"
    }
   ],
   "source": [
    "condition_list = [condition for condition in df.condition.unique()]\n",
    "condition_list[1],condition_list[2] = condition_list[2],condition_list[1]\n",
    "condition_list.reverse()\n",
    "condition_list"
   ],
   "metadata": {
    "collapsed": false,
    "ExecuteTime": {
     "start_time": "2023-04-19T10:39:51.191947Z",
     "end_time": "2023-04-19T10:39:51.481430Z"
    }
   }
  },
  {
   "cell_type": "code",
   "execution_count": 9,
   "outputs": [],
   "source": [
    "for condition in condition_list:\n",
    "    df.loc[df.condition == condition, 'condition'] = condition_list.index(condition) + 1\n"
   ],
   "metadata": {
    "collapsed": false,
    "ExecuteTime": {
     "start_time": "2023-04-19T10:39:51.231178Z",
     "end_time": "2023-04-19T10:39:51.545143Z"
    }
   }
  },
  {
   "cell_type": "code",
   "execution_count": 10,
   "outputs": [
    {
     "data": {
      "text/plain": "condition\n3    240\n5     76\n4     76\n2     40\n1     20\nName: count, dtype: int64"
     },
     "execution_count": 10,
     "metadata": {},
     "output_type": "execute_result"
    }
   ],
   "source": [
    "df.condition.value_counts()"
   ],
   "metadata": {
    "collapsed": false,
    "ExecuteTime": {
     "start_time": "2023-04-19T10:39:51.279120Z",
     "end_time": "2023-04-19T10:39:51.547326Z"
    }
   }
  },
  {
   "cell_type": "code",
   "execution_count": 11,
   "outputs": [
    {
     "data": {
      "text/plain": "subcategory\nAutres                           21.000000\nBaskets                          68.153846\nBaskets sans lacets              25.000000\nBaskets à lacets                 18.333333\nBaskets à scratch                15.000000\nChaussures bébé                   9.500000\nChaussures de basket             25.000000\nChaussures de course             15.000000\nChaussures de foot               62.500000\nChaussures de tennis             12.000000\nChaussures à lacets               7.000000\nGilets zippés                     9.000000\nHauts & t-shirts                 37.141429\nJogging                          32.500000\nProtections                      13.000000\nPulls                             3.000000\nPulls & sweats                   25.000000\nPulls et pulls à capuche         15.500000\nPulls à capuche & sweatshirts    12.000000\nPulls à capuche avec zip         15.000000\nShorts                           17.000000\nShorts et pantacourts            15.000000\nSurvêtements                     30.175000\nSweats                           27.800000\nSweats & sweats à capuche        15.500000\nT-shirts                          6.500000\nT-shirts manches longues         13.000000\nVestes                           20.000000\nVestes coupe-vent                35.000000\nVestes sans manches              35.000000\nVêtements d'extérieur            11.333333\nVêtements de sport               14.600000\nName: price, dtype: float64"
     },
     "execution_count": 11,
     "metadata": {},
     "output_type": "execute_result"
    }
   ],
   "source": [
    "df.groupby('subcategory').price.mean()"
   ],
   "metadata": {
    "collapsed": false,
    "ExecuteTime": {
     "start_time": "2023-04-19T10:39:51.358900Z",
     "end_time": "2023-04-19T10:39:51.681022Z"
    }
   }
  },
  {
   "cell_type": "code",
   "execution_count": 12,
   "outputs": [
    {
     "data": {
      "text/plain": "subcategory                    category                        \nAutres                         Garçons                               8\n                               Vêtements de sport & accessoires      4\nBaskets                        Chaussures                          104\nBaskets sans lacets            Baskets                               4\nBaskets à lacets               Baskets                              12\nBaskets à scratch              Baskets                               8\nChaussures bébé                Chaussures                            8\nChaussures de basket           Chaussures de sport                   4\nChaussures de course           Chaussures de sport                   4\nChaussures de foot             Chaussures de sport                   8\nChaussures de tennis           Chaussures de sport                   4\nChaussures à lacets            Chaussures habillées                  4\nGilets zippés                  Pulls & sweats                        8\nHauts & t-shirts               Vêtements de sport & accessoires     28\nJogging                        Pantalons                             8\nProtections                    Accessoires de sports                 4\nPulls                          Pulls & sweats                        4\nPulls & sweats                 Vêtements de sport & accessoires     12\nPulls et pulls à capuche       Sweats & pulls                        8\nPulls à capuche & sweatshirts  Pulls & sweats                        4\nPulls à capuche avec zip       Sweats & pulls                        4\nShorts                         Vêtements de sport & accessoires      4\nShorts et pantacourts          Pantalons & shorts                    4\nSurvêtements                   Vêtements de sport & accessoires     48\n                               Vêtements de sport                   32\nSweats                         Sweats & pulls                       20\nSweats & sweats à capuche      Sweats et sweats à capuche            8\nT-shirts                       Hauts et t-shirts                     4\n                               Chemises & t-shirts                   4\nT-shirts manches longues       T-shirts                              4\nVestes                         Sweats et sweats à capuche            4\nVestes coupe-vent              Vestes                               12\nVestes sans manches            Manteaux & vestes                     4\nVêtements d'extérieur          Vêtements de sport & accessoires     12\nVêtements de sport             Garçons                              40\nName: count, dtype: int64"
     },
     "execution_count": 12,
     "metadata": {},
     "output_type": "execute_result"
    }
   ],
   "source": [
    "df.groupby('subcategory').category.value_counts()"
   ],
   "metadata": {
    "collapsed": false,
    "ExecuteTime": {
     "start_time": "2023-04-19T10:39:51.455773Z",
     "end_time": "2023-04-19T10:39:51.944133Z"
    }
   }
  },
  {
   "cell_type": "code",
   "execution_count": 13,
   "outputs": [],
   "source": [
    "df.to_csv('adidas_items3.csv',index=True)"
   ],
   "metadata": {
    "collapsed": false,
    "ExecuteTime": {
     "start_time": "2023-04-19T10:39:51.562437Z",
     "end_time": "2023-04-19T10:39:52.004519Z"
    }
   }
  }
 ],
 "metadata": {
  "kernelspec": {
   "display_name": "Python 3",
   "language": "python",
   "name": "python3"
  },
  "language_info": {
   "codemirror_mode": {
    "name": "ipython",
    "version": 2
   },
   "file_extension": ".py",
   "mimetype": "text/x-python",
   "name": "python",
   "nbconvert_exporter": "python",
   "pygments_lexer": "ipython2",
   "version": "2.7.6"
  }
 },
 "nbformat": 4,
 "nbformat_minor": 0
}
