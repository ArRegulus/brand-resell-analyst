{
 "cells": [
  {
   "cell_type": "code",
   "execution_count": 16,
   "metadata": {
    "collapsed": true,
    "ExecuteTime": {
     "start_time": "2023-04-18T20:18:39.714959Z",
     "end_time": "2023-04-18T20:18:39.761896Z"
    }
   },
   "outputs": [],
   "source": [
    "import pandas as pd\n",
    "import numpy as np"
   ]
  },
  {
   "cell_type": "code",
   "execution_count": 17,
   "outputs": [
    {
     "data": {
      "text/plain": "                                     name   \n0  Adidas samba og cloud white core black  \\\n1                     Jogging Adidas Noir   \n2                           Adidas Ozelia   \n3                    Ensemble adidas noir   \n4                             Adidas cuir   \n\n                                                link              category   \n0  https://www.vinted.fr/femmes/chaussures/basket...               Baskets  \\\n1  https://www.vinted.fr/femmes/vetements/vetemen...          Survêtements   \n2  https://www.vinted.fr/hommes/chaussures/basket...               Baskets   \n3  https://www.vinted.fr/enfants/garcons/autres/2...                Autres   \n4  https://www.vinted.fr/hommes/chaussures/chauss...  Chaussures de tennis   \n\n           subcategory  price                 size            condition   \n0           Chaussures  150.0                   38  NEUF AVEC ÉTIQUETTE  \\\n1   Vêtements de sport   29.0           S / 36 / 8        TRÈS BON ÉTAT   \n2           Chaussures   80.0                   44  NEUF AVEC ÉTIQUETTE   \n3              Garçons   40.0  13 ANS / 152-158 CM  NEUF SANS ÉTIQUETTE   \n4  Chaussures de sport   12.0                   41             BON ÉTAT   \n\n           color  views  interested  \n0    NOIR, BLANC     12         1.0  \n1           NOIR    330        42.0  \n2  ORANGE, BLANC    119         NaN  \n3           NOIR     78         3.0  \n4          BLANC     92         NaN  ",
      "text/html": "<div>\n<style scoped>\n    .dataframe tbody tr th:only-of-type {\n        vertical-align: middle;\n    }\n\n    .dataframe tbody tr th {\n        vertical-align: top;\n    }\n\n    .dataframe thead th {\n        text-align: right;\n    }\n</style>\n<table border=\"1\" class=\"dataframe\">\n  <thead>\n    <tr style=\"text-align: right;\">\n      <th></th>\n      <th>name</th>\n      <th>link</th>\n      <th>category</th>\n      <th>subcategory</th>\n      <th>price</th>\n      <th>size</th>\n      <th>condition</th>\n      <th>color</th>\n      <th>views</th>\n      <th>interested</th>\n    </tr>\n  </thead>\n  <tbody>\n    <tr>\n      <th>0</th>\n      <td>Adidas samba og cloud white core black</td>\n      <td>https://www.vinted.fr/femmes/chaussures/basket...</td>\n      <td>Baskets</td>\n      <td>Chaussures</td>\n      <td>150.0</td>\n      <td>38</td>\n      <td>NEUF AVEC ÉTIQUETTE</td>\n      <td>NOIR, BLANC</td>\n      <td>12</td>\n      <td>1.0</td>\n    </tr>\n    <tr>\n      <th>1</th>\n      <td>Jogging Adidas Noir</td>\n      <td>https://www.vinted.fr/femmes/vetements/vetemen...</td>\n      <td>Survêtements</td>\n      <td>Vêtements de sport</td>\n      <td>29.0</td>\n      <td>S / 36 / 8</td>\n      <td>TRÈS BON ÉTAT</td>\n      <td>NOIR</td>\n      <td>330</td>\n      <td>42.0</td>\n    </tr>\n    <tr>\n      <th>2</th>\n      <td>Adidas Ozelia</td>\n      <td>https://www.vinted.fr/hommes/chaussures/basket...</td>\n      <td>Baskets</td>\n      <td>Chaussures</td>\n      <td>80.0</td>\n      <td>44</td>\n      <td>NEUF AVEC ÉTIQUETTE</td>\n      <td>ORANGE, BLANC</td>\n      <td>119</td>\n      <td>NaN</td>\n    </tr>\n    <tr>\n      <th>3</th>\n      <td>Ensemble adidas noir</td>\n      <td>https://www.vinted.fr/enfants/garcons/autres/2...</td>\n      <td>Autres</td>\n      <td>Garçons</td>\n      <td>40.0</td>\n      <td>13 ANS / 152-158 CM</td>\n      <td>NEUF SANS ÉTIQUETTE</td>\n      <td>NOIR</td>\n      <td>78</td>\n      <td>3.0</td>\n    </tr>\n    <tr>\n      <th>4</th>\n      <td>Adidas cuir</td>\n      <td>https://www.vinted.fr/hommes/chaussures/chauss...</td>\n      <td>Chaussures de tennis</td>\n      <td>Chaussures de sport</td>\n      <td>12.0</td>\n      <td>41</td>\n      <td>BON ÉTAT</td>\n      <td>BLANC</td>\n      <td>92</td>\n      <td>NaN</td>\n    </tr>\n  </tbody>\n</table>\n</div>"
     },
     "execution_count": 17,
     "metadata": {},
     "output_type": "execute_result"
    }
   ],
   "source": [
    "df = pd.read_csv('adidas_items2.csv')\n",
    "df.head()"
   ],
   "metadata": {
    "collapsed": false,
    "ExecuteTime": {
     "start_time": "2023-04-18T20:18:39.730536Z",
     "end_time": "2023-04-18T20:18:39.793582Z"
    }
   }
  },
  {
   "cell_type": "code",
   "execution_count": 18,
   "outputs": [
    {
     "data": {
      "text/plain": "0"
     },
     "execution_count": 18,
     "metadata": {},
     "output_type": "execute_result"
    }
   ],
   "source": [
    "df.interested.fillna(0,inplace=True)\n",
    "df.interested.isna().sum()"
   ],
   "metadata": {
    "collapsed": false,
    "ExecuteTime": {
     "start_time": "2023-04-18T20:18:39.766914Z",
     "end_time": "2023-04-18T20:18:39.793582Z"
    }
   }
  },
  {
   "cell_type": "code",
   "execution_count": 19,
   "outputs": [
    {
     "data": {
      "text/plain": "0             Chaussures\n1     Vêtements de sport\n2             Chaussures\n3                Garçons\n4    Chaussures de sport\nName: category, dtype: object"
     },
     "execution_count": 19,
     "metadata": {},
     "output_type": "execute_result"
    }
   ],
   "source": [
    "df.category = df.subcategory\n",
    "df.category.head()"
   ],
   "metadata": {
    "collapsed": false,
    "ExecuteTime": {
     "start_time": "2023-04-18T20:18:39.777934Z",
     "end_time": "2023-04-18T20:18:39.801018Z"
    }
   }
  },
  {
   "cell_type": "code",
   "execution_count": 20,
   "outputs": [],
   "source": [
    "df.to_csv('adidas_items3.csv',index=True)"
   ],
   "metadata": {
    "collapsed": false,
    "ExecuteTime": {
     "start_time": "2023-04-18T20:18:39.801018Z",
     "end_time": "2023-04-18T20:18:39.816668Z"
    }
   }
  }
 ],
 "metadata": {
  "kernelspec": {
   "display_name": "Python 3",
   "language": "python",
   "name": "python3"
  },
  "language_info": {
   "codemirror_mode": {
    "name": "ipython",
    "version": 2
   },
   "file_extension": ".py",
   "mimetype": "text/x-python",
   "name": "python",
   "nbconvert_exporter": "python",
   "pygments_lexer": "ipython2",
   "version": "2.7.6"
  }
 },
 "nbformat": 4,
 "nbformat_minor": 0
}
