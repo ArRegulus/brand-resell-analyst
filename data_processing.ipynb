{
 "cells": [
  {
   "cell_type": "code",
   "execution_count": 3,
   "metadata": {
    "collapsed": true,
    "ExecuteTime": {
     "start_time": "2023-04-19T10:39:50.923075Z",
     "end_time": "2023-04-19T10:39:51.022478Z"
    }
   },
   "outputs": [],
   "source": [
    "import pandas as pd"
   ]
  },
  {
   "cell_type": "code",
   "execution_count": 61,
   "outputs": [
    {
     "data": {
      "text/plain": "   Unnamed: 0                                    name   \n0           0  Adidas samba og cloud white core black  \\\n1           1                     Jogging Adidas Noir   \n2           2                           Adidas Ozelia   \n3           3                    Ensemble adidas noir   \n4           4                             Adidas cuir   \n\n                                                link             category   \n0  https://www.vinted.fr/femmes/chaussures/basket...           Chaussures  \\\n1  https://www.vinted.fr/femmes/vetements/vetemen...   Vêtements de sport   \n2  https://www.vinted.fr/hommes/chaussures/basket...           Chaussures   \n3  https://www.vinted.fr/enfants/garcons/autres/2...              Garçons   \n4  https://www.vinted.fr/hommes/chaussures/chauss...  Chaussures de sport   \n\n            subcategory  price                 size  condition          color   \n0               Baskets  150.0                   38          5    NOIR, BLANC  \\\n1          Survêtements   29.0           S / 36 / 8          3           NOIR   \n2               Baskets   80.0                   44          5  ORANGE, BLANC   \n3                Autres   40.0  13 ANS / 152-158 CM          4           NOIR   \n4  Chaussures de tennis   12.0                   41          2          BLANC   \n\n   views  interested  \n0     12         1.0  \n1    330        42.0  \n2    119         0.0  \n3     78         3.0  \n4     92         0.0  ",
      "text/html": "<div>\n<style scoped>\n    .dataframe tbody tr th:only-of-type {\n        vertical-align: middle;\n    }\n\n    .dataframe tbody tr th {\n        vertical-align: top;\n    }\n\n    .dataframe thead th {\n        text-align: right;\n    }\n</style>\n<table border=\"1\" class=\"dataframe\">\n  <thead>\n    <tr style=\"text-align: right;\">\n      <th></th>\n      <th>Unnamed: 0</th>\n      <th>name</th>\n      <th>link</th>\n      <th>category</th>\n      <th>subcategory</th>\n      <th>price</th>\n      <th>size</th>\n      <th>condition</th>\n      <th>color</th>\n      <th>views</th>\n      <th>interested</th>\n    </tr>\n  </thead>\n  <tbody>\n    <tr>\n      <th>0</th>\n      <td>0</td>\n      <td>Adidas samba og cloud white core black</td>\n      <td>https://www.vinted.fr/femmes/chaussures/basket...</td>\n      <td>Chaussures</td>\n      <td>Baskets</td>\n      <td>150.0</td>\n      <td>38</td>\n      <td>5</td>\n      <td>NOIR, BLANC</td>\n      <td>12</td>\n      <td>1.0</td>\n    </tr>\n    <tr>\n      <th>1</th>\n      <td>1</td>\n      <td>Jogging Adidas Noir</td>\n      <td>https://www.vinted.fr/femmes/vetements/vetemen...</td>\n      <td>Vêtements de sport</td>\n      <td>Survêtements</td>\n      <td>29.0</td>\n      <td>S / 36 / 8</td>\n      <td>3</td>\n      <td>NOIR</td>\n      <td>330</td>\n      <td>42.0</td>\n    </tr>\n    <tr>\n      <th>2</th>\n      <td>2</td>\n      <td>Adidas Ozelia</td>\n      <td>https://www.vinted.fr/hommes/chaussures/basket...</td>\n      <td>Chaussures</td>\n      <td>Baskets</td>\n      <td>80.0</td>\n      <td>44</td>\n      <td>5</td>\n      <td>ORANGE, BLANC</td>\n      <td>119</td>\n      <td>0.0</td>\n    </tr>\n    <tr>\n      <th>3</th>\n      <td>3</td>\n      <td>Ensemble adidas noir</td>\n      <td>https://www.vinted.fr/enfants/garcons/autres/2...</td>\n      <td>Garçons</td>\n      <td>Autres</td>\n      <td>40.0</td>\n      <td>13 ANS / 152-158 CM</td>\n      <td>4</td>\n      <td>NOIR</td>\n      <td>78</td>\n      <td>3.0</td>\n    </tr>\n    <tr>\n      <th>4</th>\n      <td>4</td>\n      <td>Adidas cuir</td>\n      <td>https://www.vinted.fr/hommes/chaussures/chauss...</td>\n      <td>Chaussures de sport</td>\n      <td>Chaussures de tennis</td>\n      <td>12.0</td>\n      <td>41</td>\n      <td>2</td>\n      <td>BLANC</td>\n      <td>92</td>\n      <td>0.0</td>\n    </tr>\n  </tbody>\n</table>\n</div>"
     },
     "execution_count": 61,
     "metadata": {},
     "output_type": "execute_result"
    }
   ],
   "source": [
    "df = pd.read_csv('adidas_items3.csv')\n",
    "df.head()"
   ],
   "metadata": {
    "collapsed": false,
    "ExecuteTime": {
     "start_time": "2023-04-19T10:40:54.703621Z",
     "end_time": "2023-04-19T10:40:54.734537Z"
    }
   }
  },
  {
   "cell_type": "code",
   "execution_count": 5,
   "outputs": [
    {
     "data": {
      "text/plain": "0"
     },
     "execution_count": 5,
     "metadata": {},
     "output_type": "execute_result"
    }
   ],
   "source": [
    "df.interested.fillna(0,inplace=True)\n",
    "df.interested.isna().sum()"
   ],
   "metadata": {
    "collapsed": false,
    "ExecuteTime": {
     "start_time": "2023-04-19T10:39:51.056477Z",
     "end_time": "2023-04-19T10:39:51.249710Z"
    }
   }
  },
  {
   "cell_type": "code",
   "execution_count": 6,
   "outputs": [
    {
     "data": {
      "text/plain": "0             Chaussures\n1     Vêtements de sport\n2             Chaussures\n3                Garçons\n4    Chaussures de sport\nName: category, dtype: object"
     },
     "execution_count": 6,
     "metadata": {},
     "output_type": "execute_result"
    }
   ],
   "source": [
    "df.category,df.subcategory = df.subcategory,df.category\n",
    "df.category.head()"
   ],
   "metadata": {
    "collapsed": false,
    "ExecuteTime": {
     "start_time": "2023-04-19T10:39:51.127208Z",
     "end_time": "2023-04-19T10:39:51.308550Z"
    }
   }
  },
  {
   "cell_type": "code",
   "execution_count": 7,
   "outputs": [
    {
     "data": {
      "text/plain": "condition\nTRÈS BON ÉTAT          240\nNEUF AVEC ÉTIQUETTE     76\nNEUF SANS ÉTIQUETTE     76\nBON ÉTAT                40\nSATISFAISANT            20\nName: count, dtype: int64"
     },
     "execution_count": 7,
     "metadata": {},
     "output_type": "execute_result"
    }
   ],
   "source": [
    "df.condition.value_counts()"
   ],
   "metadata": {
    "collapsed": false,
    "ExecuteTime": {
     "start_time": "2023-04-19T10:39:51.158067Z",
     "end_time": "2023-04-19T10:39:51.341424Z"
    }
   }
  },
  {
   "cell_type": "code",
   "execution_count": 8,
   "outputs": [
    {
     "data": {
      "text/plain": "['SATISFAISANT',\n 'BON ÉTAT',\n 'TRÈS BON ÉTAT',\n 'NEUF SANS ÉTIQUETTE',\n 'NEUF AVEC ÉTIQUETTE']"
     },
     "execution_count": 8,
     "metadata": {},
     "output_type": "execute_result"
    }
   ],
   "source": [
    "condition_list = [condition for condition in df.condition.unique()]\n",
    "condition_list[1],condition_list[2] = condition_list[2],condition_list[1]\n",
    "condition_list.reverse()\n",
    "condition_list"
   ],
   "metadata": {
    "collapsed": false,
    "ExecuteTime": {
     "start_time": "2023-04-19T10:39:51.191947Z",
     "end_time": "2023-04-19T10:39:51.481430Z"
    }
   }
  },
  {
   "cell_type": "code",
   "execution_count": 9,
   "outputs": [],
   "source": [
    "for condition in condition_list:\n",
    "    df.loc[df.condition == condition, 'condition'] = condition_list.index(condition) + 1\n"
   ],
   "metadata": {
    "collapsed": false,
    "ExecuteTime": {
     "start_time": "2023-04-19T10:39:51.231178Z",
     "end_time": "2023-04-19T10:39:51.545143Z"
    }
   }
  },
  {
   "cell_type": "code",
   "execution_count": 10,
   "outputs": [
    {
     "data": {
      "text/plain": "condition\n3    240\n5     76\n4     76\n2     40\n1     20\nName: count, dtype: int64"
     },
     "execution_count": 10,
     "metadata": {},
     "output_type": "execute_result"
    }
   ],
   "source": [
    "df.condition.value_counts()"
   ],
   "metadata": {
    "collapsed": false,
    "ExecuteTime": {
     "start_time": "2023-04-19T10:39:51.279120Z",
     "end_time": "2023-04-19T10:39:51.547326Z"
    }
   }
  },
  {
   "cell_type": "code",
   "execution_count": 86,
   "outputs": [
    {
     "data": {
      "text/plain": "category\nAccessoires de sports               13.000000\nBaskets                             18.333333\nChaussures                          63.964286\nChaussures de sport                 35.400000\nChaussures habillées                 7.000000\nChemises & t-shirts                  3.000000\nGarçons                             16.166667\nHauts et t-shirts                   10.000000\nManteaux & vestes                   35.000000\nPantalons                           32.500000\nPantalons & shorts                  15.000000\nPulls & sweats                       8.250000\nSweats & pulls                      23.125000\nSweats et sweats à capuche          17.000000\nT-shirts                            13.000000\nVestes                              35.000000\nVêtements de sport                  31.312500\nVêtements de sport & accessoires    27.925556\nName: price, dtype: float64"
     },
     "execution_count": 86,
     "metadata": {},
     "output_type": "execute_result"
    }
   ],
   "source": [
    "df.groupby('category').price.mean()"
   ],
   "metadata": {
    "collapsed": false,
    "ExecuteTime": {
     "start_time": "2023-04-19T10:52:06.839129Z",
     "end_time": "2023-04-19T10:52:06.845112Z"
    }
   }
  },
  {
   "cell_type": "code",
   "execution_count": 85,
   "outputs": [
    {
     "data": {
      "text/plain": "Index(['Accessoires de sports', 'Baskets', 'Chaussures', 'Chaussures de sport',\n       'Chaussures habillées', 'Chemises & t-shirts', 'Garçons',\n       'Hauts et t-shirts', 'Manteaux & vestes', 'Pantalons',\n       'Pantalons & shorts', 'Pulls & sweats', 'Sweats & pulls',\n       'Sweats et sweats à capuche', 'T-shirts', 'Vestes',\n       'Vêtements de sport', 'Vêtements de sport & accessoires'],\n      dtype='object', name='category')"
     },
     "execution_count": 85,
     "metadata": {},
     "output_type": "execute_result"
    }
   ],
   "source": [
    "df.groupby('category').price.mean().index"
   ],
   "metadata": {
    "collapsed": false,
    "ExecuteTime": {
     "start_time": "2023-04-19T10:52:00.075127Z",
     "end_time": "2023-04-19T10:52:00.089088Z"
    }
   }
  },
  {
   "cell_type": "code",
   "execution_count": 99,
   "outputs": [
    {
     "data": {
      "text/plain": "Index(['name', 'link', 'category', 'subcategory', 'price', 'size', 'condition',\n       'color', 'views', 'interested'],\n      dtype='object')"
     },
     "execution_count": 99,
     "metadata": {},
     "output_type": "execute_result"
    }
   ],
   "source": [
    "df.columns[1:]"
   ],
   "metadata": {
    "collapsed": false,
    "ExecuteTime": {
     "start_time": "2023-04-19T11:55:37.700354Z",
     "end_time": "2023-04-19T11:55:37.717308Z"
    }
   }
  },
  {
   "cell_type": "code",
   "execution_count": 94,
   "outputs": [],
   "source": [
    "df.to_csv('adidas_items3.csv',index=False)"
   ],
   "metadata": {
    "collapsed": false,
    "ExecuteTime": {
     "start_time": "2023-04-19T11:54:26.706786Z",
     "end_time": "2023-04-19T11:54:26.730722Z"
    }
   }
  }
 ],
 "metadata": {
  "kernelspec": {
   "display_name": "Python 3",
   "language": "python",
   "name": "python3"
  },
  "language_info": {
   "codemirror_mode": {
    "name": "ipython",
    "version": 2
   },
   "file_extension": ".py",
   "mimetype": "text/x-python",
   "name": "python",
   "nbconvert_exporter": "python",
   "pygments_lexer": "ipython2",
   "version": "2.7.6"
  }
 },
 "nbformat": 4,
 "nbformat_minor": 0
}
