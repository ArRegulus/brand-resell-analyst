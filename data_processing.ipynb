{
 "cells": [
  {
   "cell_type": "code",
   "execution_count": 1,
   "metadata": {
    "collapsed": true,
    "ExecuteTime": {
     "start_time": "2023-04-19T10:01:59.907866Z",
     "end_time": "2023-04-19T10:02:00.916168Z"
    }
   },
   "outputs": [],
   "source": [
    "import pandas as pd"
   ]
  },
  {
   "cell_type": "code",
   "execution_count": 60,
   "outputs": [
    {
     "data": {
      "text/plain": "   Unnamed: 0                                    name   \n0           0  Adidas samba og cloud white core black  \\\n1           1                     Jogging Adidas Noir   \n2           2                           Adidas Ozelia   \n3           3                    Ensemble adidas noir   \n4           4                             Adidas cuir   \n\n                                                link             category   \n0  https://www.vinted.fr/femmes/chaussures/basket...           Chaussures  \\\n1  https://www.vinted.fr/femmes/vetements/vetemen...   Vêtements de sport   \n2  https://www.vinted.fr/hommes/chaussures/basket...           Chaussures   \n3  https://www.vinted.fr/enfants/garcons/autres/2...              Garçons   \n4  https://www.vinted.fr/hommes/chaussures/chauss...  Chaussures de sport   \n\n           subcategory  price                 size            condition   \n0           Chaussures  150.0                   38  NEUF AVEC ÉTIQUETTE  \\\n1   Vêtements de sport   29.0           S / 36 / 8        TRÈS BON ÉTAT   \n2           Chaussures   80.0                   44  NEUF AVEC ÉTIQUETTE   \n3              Garçons   40.0  13 ANS / 152-158 CM  NEUF SANS ÉTIQUETTE   \n4  Chaussures de sport   12.0                   41             BON ÉTAT   \n\n           color  views  interested  \n0    NOIR, BLANC     12         1.0  \n1           NOIR    330        42.0  \n2  ORANGE, BLANC    119         0.0  \n3           NOIR     78         3.0  \n4          BLANC     92         0.0  ",
      "text/html": "<div>\n<style scoped>\n    .dataframe tbody tr th:only-of-type {\n        vertical-align: middle;\n    }\n\n    .dataframe tbody tr th {\n        vertical-align: top;\n    }\n\n    .dataframe thead th {\n        text-align: right;\n    }\n</style>\n<table border=\"1\" class=\"dataframe\">\n  <thead>\n    <tr style=\"text-align: right;\">\n      <th></th>\n      <th>Unnamed: 0</th>\n      <th>name</th>\n      <th>link</th>\n      <th>category</th>\n      <th>subcategory</th>\n      <th>price</th>\n      <th>size</th>\n      <th>condition</th>\n      <th>color</th>\n      <th>views</th>\n      <th>interested</th>\n    </tr>\n  </thead>\n  <tbody>\n    <tr>\n      <th>0</th>\n      <td>0</td>\n      <td>Adidas samba og cloud white core black</td>\n      <td>https://www.vinted.fr/femmes/chaussures/basket...</td>\n      <td>Chaussures</td>\n      <td>Chaussures</td>\n      <td>150.0</td>\n      <td>38</td>\n      <td>NEUF AVEC ÉTIQUETTE</td>\n      <td>NOIR, BLANC</td>\n      <td>12</td>\n      <td>1.0</td>\n    </tr>\n    <tr>\n      <th>1</th>\n      <td>1</td>\n      <td>Jogging Adidas Noir</td>\n      <td>https://www.vinted.fr/femmes/vetements/vetemen...</td>\n      <td>Vêtements de sport</td>\n      <td>Vêtements de sport</td>\n      <td>29.0</td>\n      <td>S / 36 / 8</td>\n      <td>TRÈS BON ÉTAT</td>\n      <td>NOIR</td>\n      <td>330</td>\n      <td>42.0</td>\n    </tr>\n    <tr>\n      <th>2</th>\n      <td>2</td>\n      <td>Adidas Ozelia</td>\n      <td>https://www.vinted.fr/hommes/chaussures/basket...</td>\n      <td>Chaussures</td>\n      <td>Chaussures</td>\n      <td>80.0</td>\n      <td>44</td>\n      <td>NEUF AVEC ÉTIQUETTE</td>\n      <td>ORANGE, BLANC</td>\n      <td>119</td>\n      <td>0.0</td>\n    </tr>\n    <tr>\n      <th>3</th>\n      <td>3</td>\n      <td>Ensemble adidas noir</td>\n      <td>https://www.vinted.fr/enfants/garcons/autres/2...</td>\n      <td>Garçons</td>\n      <td>Garçons</td>\n      <td>40.0</td>\n      <td>13 ANS / 152-158 CM</td>\n      <td>NEUF SANS ÉTIQUETTE</td>\n      <td>NOIR</td>\n      <td>78</td>\n      <td>3.0</td>\n    </tr>\n    <tr>\n      <th>4</th>\n      <td>4</td>\n      <td>Adidas cuir</td>\n      <td>https://www.vinted.fr/hommes/chaussures/chauss...</td>\n      <td>Chaussures de sport</td>\n      <td>Chaussures de sport</td>\n      <td>12.0</td>\n      <td>41</td>\n      <td>BON ÉTAT</td>\n      <td>BLANC</td>\n      <td>92</td>\n      <td>0.0</td>\n    </tr>\n  </tbody>\n</table>\n</div>"
     },
     "execution_count": 60,
     "metadata": {},
     "output_type": "execute_result"
    }
   ],
   "source": [
    "df = pd.read_csv('adidas_items3.csv')\n",
    "df.head()"
   ],
   "metadata": {
    "collapsed": false,
    "ExecuteTime": {
     "start_time": "2023-04-19T10:35:04.252775Z",
     "end_time": "2023-04-19T10:35:04.275713Z"
    }
   }
  },
  {
   "cell_type": "code",
   "execution_count": 18,
   "outputs": [
    {
     "data": {
      "text/plain": "0"
     },
     "execution_count": 18,
     "metadata": {},
     "output_type": "execute_result"
    }
   ],
   "source": [
    "df.interested.fillna(0,inplace=True)\n",
    "df.interested.isna().sum()"
   ],
   "metadata": {
    "collapsed": false,
    "ExecuteTime": {
     "start_time": "2023-04-18T20:18:39.766914Z",
     "end_time": "2023-04-18T20:18:39.793582Z"
    }
   }
  },
  {
   "cell_type": "code",
   "execution_count": 19,
   "outputs": [
    {
     "data": {
      "text/plain": "0             Chaussures\n1     Vêtements de sport\n2             Chaussures\n3                Garçons\n4    Chaussures de sport\nName: category, dtype: object"
     },
     "execution_count": 19,
     "metadata": {},
     "output_type": "execute_result"
    }
   ],
   "source": [
    "df.category,df.subcategory = df.subcategory,df.category\n",
    "df.category.head()"
   ],
   "metadata": {
    "collapsed": false,
    "ExecuteTime": {
     "start_time": "2023-04-18T20:18:39.777934Z",
     "end_time": "2023-04-18T20:18:39.801018Z"
    }
   }
  },
  {
   "cell_type": "code",
   "execution_count": 20,
   "outputs": [],
   "source": [
    "df.to_csv('adidas_items3.csv',index=True)"
   ],
   "metadata": {
    "collapsed": false,
    "ExecuteTime": {
     "start_time": "2023-04-18T20:18:39.801018Z",
     "end_time": "2023-04-18T20:18:39.816668Z"
    }
   }
  },
  {
   "cell_type": "code",
   "execution_count": 42,
   "outputs": [
    {
     "data": {
      "text/plain": "condition\nTRÈS BON ÉTAT          240\nNEUF AVEC ÉTIQUETTE     76\nNEUF SANS ÉTIQUETTE     76\nBON ÉTAT                40\nSATISFAISANT            20\nName: count, dtype: int64"
     },
     "execution_count": 42,
     "metadata": {},
     "output_type": "execute_result"
    }
   ],
   "source": [
    "df.condition.value_counts()"
   ],
   "metadata": {
    "collapsed": false,
    "ExecuteTime": {
     "start_time": "2023-04-19T10:17:24.746293Z",
     "end_time": "2023-04-19T10:17:24.768233Z"
    }
   }
  },
  {
   "cell_type": "code",
   "execution_count": 44,
   "outputs": [
    {
     "data": {
      "text/plain": "['SATISFAISANT',\n 'BON ÉTAT',\n 'TRÈS BON ÉTAT',\n 'NEUF SANS ÉTIQUETTE',\n 'NEUF AVEC ÉTIQUETTE']"
     },
     "execution_count": 44,
     "metadata": {},
     "output_type": "execute_result"
    }
   ],
   "source": [
    "condition_list = [condition for condition in df.condition.unique()]\n",
    "condition_list[1],condition_list[2] = condition_list[2],condition_list[1]\n",
    "condition_list.reverse()\n",
    "condition_list"
   ],
   "metadata": {
    "collapsed": false,
    "ExecuteTime": {
     "start_time": "2023-04-19T10:17:55.193824Z",
     "end_time": "2023-04-19T10:17:55.202799Z"
    }
   }
  },
  {
   "cell_type": "code",
   "execution_count": 45,
   "outputs": [],
   "source": [
    "for condition in condition_list:\n",
    "    df.loc[df.condition == condition, 'condition'] = condition_list.index(condition) + 1\n"
   ],
   "metadata": {
    "collapsed": false,
    "ExecuteTime": {
     "start_time": "2023-04-19T10:17:57.006972Z",
     "end_time": "2023-04-19T10:17:57.016945Z"
    }
   }
  },
  {
   "cell_type": "code",
   "execution_count": 46,
   "outputs": [
    {
     "data": {
      "text/plain": "condition\n3    240\n5     76\n4     76\n2     40\n1     20\nName: count, dtype: int64"
     },
     "execution_count": 46,
     "metadata": {},
     "output_type": "execute_result"
    }
   ],
   "source": [
    "df.condition.value_counts()"
   ],
   "metadata": {
    "collapsed": false,
    "ExecuteTime": {
     "start_time": "2023-04-19T10:18:01.647556Z",
     "end_time": "2023-04-19T10:18:01.664510Z"
    }
   }
  },
  {
   "cell_type": "code",
   "execution_count": 53,
   "outputs": [
    {
     "data": {
      "text/plain": "subcategory\nAccessoires de sports               13.000000\nBaskets                             18.333333\nChaussures                          63.964286\nChaussures de sport                 35.400000\nChaussures habillées                 7.000000\nChemises & t-shirts                  3.000000\nGarçons                             16.166667\nHauts et t-shirts                   10.000000\nManteaux & vestes                   35.000000\nPantalons                           32.500000\nPantalons & shorts                  15.000000\nPulls & sweats                       8.250000\nSweats & pulls                      23.125000\nSweats et sweats à capuche          17.000000\nT-shirts                            13.000000\nVestes                              35.000000\nVêtements de sport                  31.312500\nVêtements de sport & accessoires    27.925556\nName: price, dtype: float64"
     },
     "execution_count": 53,
     "metadata": {},
     "output_type": "execute_result"
    }
   ],
   "source": [
    "df.groupby('subcategory').price.mean()"
   ],
   "metadata": {
    "collapsed": false,
    "ExecuteTime": {
     "start_time": "2023-04-19T10:33:50.032406Z",
     "end_time": "2023-04-19T10:33:50.045370Z"
    }
   }
  },
  {
   "cell_type": "code",
   "execution_count": 59,
   "outputs": [
    {
     "data": {
      "text/plain": "subcategory                       category                        \nAccessoires de sports             Accessoires de sports                 4\nBaskets                           Baskets                              24\nChaussures                        Chaussures                          112\nChaussures de sport               Chaussures de sport                  20\nChaussures habillées              Chaussures habillées                  4\nChemises & t-shirts               Chemises & t-shirts                   4\nGarçons                           Garçons                              48\nHauts et t-shirts                 Hauts et t-shirts                     4\nManteaux & vestes                 Manteaux & vestes                     4\nPantalons                         Pantalons                             8\nPantalons & shorts                Pantalons & shorts                    4\nPulls & sweats                    Pulls & sweats                       16\nSweats & pulls                    Sweats & pulls                       32\nSweats et sweats à capuche        Sweats et sweats à capuche           12\nT-shirts                          T-shirts                              4\nVestes                            Vestes                               12\nVêtements de sport                Vêtements de sport                   32\nVêtements de sport & accessoires  Vêtements de sport & accessoires    108\nName: count, dtype: int64"
     },
     "execution_count": 59,
     "metadata": {},
     "output_type": "execute_result"
    }
   ],
   "source": [
    "df.groupby('subcategory').category.value_counts()"
   ],
   "metadata": {
    "collapsed": false,
    "ExecuteTime": {
     "start_time": "2023-04-19T10:34:37.106991Z",
     "end_time": "2023-04-19T10:34:37.125940Z"
    }
   }
  }
 ],
 "metadata": {
  "kernelspec": {
   "display_name": "Python 3",
   "language": "python",
   "name": "python3"
  },
  "language_info": {
   "codemirror_mode": {
    "name": "ipython",
    "version": 2
   },
   "file_extension": ".py",
   "mimetype": "text/x-python",
   "name": "python",
   "nbconvert_exporter": "python",
   "pygments_lexer": "ipython2",
   "version": "2.7.6"
  }
 },
 "nbformat": 4,
 "nbformat_minor": 0
}
