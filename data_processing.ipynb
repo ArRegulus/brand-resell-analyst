{
 "cells": [
  {
   "cell_type": "code",
   "execution_count": 100,
   "metadata": {
    "collapsed": true,
    "ExecuteTime": {
     "start_time": "2023-04-19T13:16:40.750280Z",
     "end_time": "2023-04-19T13:16:40.760253Z"
    }
   },
   "outputs": [],
   "source": [
    "import pandas as pd"
   ]
  },
  {
   "cell_type": "code",
   "execution_count": 101,
   "outputs": [
    {
     "data": {
      "text/plain": "                                     name   \n0                             Rebe enfant  \\\n1      Serre tête zara ton rose et violet   \n2           Combinaison d’extérieure ZARA   \n3  Pantalon Zara Girls. Talla 11/12 años.   \n4                               Pull Zara   \n\n                                                link   \n0  https://www.vinted.fr/enfants/filles/robes/rob...  \\\n1  https://www.vinted.fr/femmes/accessoires/acces...   \n2  https://www.vinted.fr/enfants/filles/vetements...   \n3  https://www.vinted.fr/enfants/filles/pantalons...   \n4  https://www.vinted.fr/enfants/filles/pulls-and...   \n\n                   category         subcategory  price                 size   \n0             Robes courtes               Robes    1.0    4 ANS / 98-104 CM  \\\n1  Accessoires pour cheveux         Accessoires   11.0                  NaN   \n2       Combinaisons de ski    Vêtements de ski    5.0  6-9 MOIS / 68-74 CM   \n3                    Autres  Pantalons & shorts    7.0  11 ANS / 140-146 CM   \n4                     Pulls      Pulls & sweats    1.0   7 ANS / 116-122 CM   \n\n             condition        color  views  interested  \n0  NEUF SANS ÉTIQUETTE  MULTICOLORE    198         1.0  \n1        TRÈS BON ÉTAT  MULTICOLORE     26         2.0  \n2        TRÈS BON ÉTAT        BEIGE     53         NaN  \n3        TRÈS BON ÉTAT         NOIR     82         7.0  \n4        TRÈS BON ÉTAT         NOIR     96         NaN  ",
      "text/html": "<div>\n<style scoped>\n    .dataframe tbody tr th:only-of-type {\n        vertical-align: middle;\n    }\n\n    .dataframe tbody tr th {\n        vertical-align: top;\n    }\n\n    .dataframe thead th {\n        text-align: right;\n    }\n</style>\n<table border=\"1\" class=\"dataframe\">\n  <thead>\n    <tr style=\"text-align: right;\">\n      <th></th>\n      <th>name</th>\n      <th>link</th>\n      <th>category</th>\n      <th>subcategory</th>\n      <th>price</th>\n      <th>size</th>\n      <th>condition</th>\n      <th>color</th>\n      <th>views</th>\n      <th>interested</th>\n    </tr>\n  </thead>\n  <tbody>\n    <tr>\n      <th>0</th>\n      <td>Rebe enfant</td>\n      <td>https://www.vinted.fr/enfants/filles/robes/rob...</td>\n      <td>Robes courtes</td>\n      <td>Robes</td>\n      <td>1.0</td>\n      <td>4 ANS / 98-104 CM</td>\n      <td>NEUF SANS ÉTIQUETTE</td>\n      <td>MULTICOLORE</td>\n      <td>198</td>\n      <td>1.0</td>\n    </tr>\n    <tr>\n      <th>1</th>\n      <td>Serre tête zara ton rose et violet</td>\n      <td>https://www.vinted.fr/femmes/accessoires/acces...</td>\n      <td>Accessoires pour cheveux</td>\n      <td>Accessoires</td>\n      <td>11.0</td>\n      <td>NaN</td>\n      <td>TRÈS BON ÉTAT</td>\n      <td>MULTICOLORE</td>\n      <td>26</td>\n      <td>2.0</td>\n    </tr>\n    <tr>\n      <th>2</th>\n      <td>Combinaison d’extérieure ZARA</td>\n      <td>https://www.vinted.fr/enfants/filles/vetements...</td>\n      <td>Combinaisons de ski</td>\n      <td>Vêtements de ski</td>\n      <td>5.0</td>\n      <td>6-9 MOIS / 68-74 CM</td>\n      <td>TRÈS BON ÉTAT</td>\n      <td>BEIGE</td>\n      <td>53</td>\n      <td>NaN</td>\n    </tr>\n    <tr>\n      <th>3</th>\n      <td>Pantalon Zara Girls. Talla 11/12 años.</td>\n      <td>https://www.vinted.fr/enfants/filles/pantalons...</td>\n      <td>Autres</td>\n      <td>Pantalons &amp; shorts</td>\n      <td>7.0</td>\n      <td>11 ANS / 140-146 CM</td>\n      <td>TRÈS BON ÉTAT</td>\n      <td>NOIR</td>\n      <td>82</td>\n      <td>7.0</td>\n    </tr>\n    <tr>\n      <th>4</th>\n      <td>Pull Zara</td>\n      <td>https://www.vinted.fr/enfants/filles/pulls-and...</td>\n      <td>Pulls</td>\n      <td>Pulls &amp; sweats</td>\n      <td>1.0</td>\n      <td>7 ANS / 116-122 CM</td>\n      <td>TRÈS BON ÉTAT</td>\n      <td>NOIR</td>\n      <td>96</td>\n      <td>NaN</td>\n    </tr>\n  </tbody>\n</table>\n</div>"
     },
     "execution_count": 101,
     "metadata": {},
     "output_type": "execute_result"
    }
   ],
   "source": [
    "df = pd.read_csv('zara_items.csv')\n",
    "df.head()"
   ],
   "metadata": {
    "collapsed": false,
    "ExecuteTime": {
     "start_time": "2023-04-19T13:16:40.760253Z",
     "end_time": "2023-04-19T13:16:40.805133Z"
    }
   }
  },
  {
   "cell_type": "code",
   "execution_count": 102,
   "outputs": [
    {
     "data": {
      "text/plain": "0"
     },
     "execution_count": 102,
     "metadata": {},
     "output_type": "execute_result"
    }
   ],
   "source": [
    "df.interested.fillna(0,inplace=True)\n",
    "df.interested.isna().sum()"
   ],
   "metadata": {
    "collapsed": false,
    "ExecuteTime": {
     "start_time": "2023-04-19T13:16:40.807127Z",
     "end_time": "2023-04-19T13:16:40.840545Z"
    }
   }
  },
  {
   "cell_type": "code",
   "execution_count": 103,
   "outputs": [
    {
     "data": {
      "text/plain": "0                 Robes\n1           Accessoires\n2      Vêtements de ski\n3    Pantalons & shorts\n4        Pulls & sweats\nName: category, dtype: object"
     },
     "execution_count": 103,
     "metadata": {},
     "output_type": "execute_result"
    }
   ],
   "source": [
    "df.category,df.subcategory = df.subcategory,df.category\n",
    "df.category.head()"
   ],
   "metadata": {
    "collapsed": false,
    "ExecuteTime": {
     "start_time": "2023-04-19T13:16:40.823590Z",
     "end_time": "2023-04-19T13:16:40.880438Z"
    }
   }
  },
  {
   "cell_type": "code",
   "execution_count": 104,
   "outputs": [
    {
     "data": {
      "text/plain": "condition\nTRÈS BON ÉTAT          1197\nNEUF SANS ÉTIQUETTE     399\nNEUF AVEC ÉTIQUETTE     231\nBON ÉTAT                168\nSATISFAISANT             21\nName: count, dtype: int64"
     },
     "execution_count": 104,
     "metadata": {},
     "output_type": "execute_result"
    }
   ],
   "source": [
    "df.condition.value_counts()"
   ],
   "metadata": {
    "collapsed": false,
    "ExecuteTime": {
     "start_time": "2023-04-19T13:16:40.836555Z",
     "end_time": "2023-04-19T13:16:40.889414Z"
    }
   }
  },
  {
   "cell_type": "code",
   "execution_count": 105,
   "outputs": [
    {
     "data": {
      "text/plain": "['SATISFAISANT',\n 'NEUF AVEC ÉTIQUETTE',\n 'TRÈS BON ÉTAT',\n 'BON ÉTAT',\n 'NEUF SANS ÉTIQUETTE']"
     },
     "execution_count": 105,
     "metadata": {},
     "output_type": "execute_result"
    }
   ],
   "source": [
    "condition_list = [condition for condition in df.condition.unique()]\n",
    "condition_list[1],condition_list[2] = condition_list[2],condition_list[1]\n",
    "condition_list.reverse()\n",
    "condition_list"
   ],
   "metadata": {
    "collapsed": false,
    "ExecuteTime": {
     "start_time": "2023-04-19T13:16:40.851516Z",
     "end_time": "2023-04-19T13:16:40.927313Z"
    }
   }
  },
  {
   "cell_type": "code",
   "execution_count": 106,
   "outputs": [],
   "source": [
    "for condition in condition_list:\n",
    "    df.loc[df.condition == condition, 'condition'] = condition_list.index(condition) + 1\n"
   ],
   "metadata": {
    "collapsed": false,
    "ExecuteTime": {
     "start_time": "2023-04-19T13:16:40.867472Z",
     "end_time": "2023-04-19T13:16:40.928310Z"
    }
   }
  },
  {
   "cell_type": "code",
   "execution_count": 107,
   "outputs": [
    {
     "data": {
      "text/plain": "condition\n3    1197\n5     399\n2     231\n4     168\n1      21\nName: count, dtype: int64"
     },
     "execution_count": 107,
     "metadata": {},
     "output_type": "execute_result"
    }
   ],
   "source": [
    "df.condition.value_counts()"
   ],
   "metadata": {
    "collapsed": false,
    "ExecuteTime": {
     "start_time": "2023-04-19T13:16:40.882432Z",
     "end_time": "2023-04-19T13:16:40.929308Z"
    }
   }
  },
  {
   "cell_type": "code",
   "execution_count": 108,
   "outputs": [
    {
     "data": {
      "text/plain": "category\nAccessoires                    11.000000\nBeauté                         14.000000\nBijoux                          9.861111\nBlazers et tailleurs           17.666667\nBottes                          9.000000\nBébé filles                     3.000000\nBébé garçons                    7.300000\nChapeaux & casquettes           6.000000\nChaussures plates              25.000000\nChaussures à talons            12.500000\nChemises & t-shirts             5.000000\nCombinaisons et combishorts    10.535714\nFilles                          8.750000\nHauts et t-shirts               7.214286\nJeans                           6.350000\nJupes                          10.000000\nManteaux                        8.000000\nManteaux et vestes             11.900000\nPantalons                      12.000000\nPantalons & shorts              4.625000\nPantalons et leggings           8.000000\nPour occasions                  9.000000\nPulls & sweats                  5.500000\nRobes                           5.300000\nSacs                           15.250000\nShorts                          8.000000\nSoins                           5.000000\nSweats                          6.000000\nSweats & pulls                 13.000000\nSweats et sweats à capuche      6.333333\nVestes                         19.250000\nVêtements                       8.500000\nVêtements de ski                5.000000\nVêtements de sport              7.000000\nName: price, dtype: float64"
     },
     "execution_count": 108,
     "metadata": {},
     "output_type": "execute_result"
    }
   ],
   "source": [
    "df.groupby('category').price.mean()"
   ],
   "metadata": {
    "collapsed": false,
    "ExecuteTime": {
     "start_time": "2023-04-19T13:16:40.898390Z",
     "end_time": "2023-04-19T13:16:40.930305Z"
    }
   }
  },
  {
   "cell_type": "code",
   "execution_count": 109,
   "outputs": [
    {
     "data": {
      "text/plain": "Index(['Accessoires', 'Beauté', 'Bijoux', 'Blazers et tailleurs', 'Bottes',\n       'Bébé filles', 'Bébé garçons', 'Chapeaux & casquettes',\n       'Chaussures plates', 'Chaussures à talons', 'Chemises & t-shirts',\n       'Combinaisons et combishorts', 'Filles', 'Hauts et t-shirts', 'Jeans',\n       'Jupes', 'Manteaux', 'Manteaux et vestes', 'Pantalons',\n       'Pantalons & shorts', 'Pantalons et leggings', 'Pour occasions',\n       'Pulls & sweats', 'Robes', 'Sacs', 'Shorts', 'Soins', 'Sweats',\n       'Sweats & pulls', 'Sweats et sweats à capuche', 'Vestes', 'Vêtements',\n       'Vêtements de ski', 'Vêtements de sport'],\n      dtype='object', name='category')"
     },
     "execution_count": 109,
     "metadata": {},
     "output_type": "execute_result"
    }
   ],
   "source": [
    "df.groupby('category').price.mean().index"
   ],
   "metadata": {
    "collapsed": false,
    "ExecuteTime": {
     "start_time": "2023-04-19T13:16:40.916342Z",
     "end_time": "2023-04-19T13:16:40.930305Z"
    }
   }
  },
  {
   "cell_type": "code",
   "execution_count": 110,
   "outputs": [
    {
     "data": {
      "text/plain": "Index(['link', 'category', 'subcategory', 'price', 'size', 'condition',\n       'color', 'views', 'interested'],\n      dtype='object')"
     },
     "execution_count": 110,
     "metadata": {},
     "output_type": "execute_result"
    }
   ],
   "source": [
    "df.columns[1:]"
   ],
   "metadata": {
    "collapsed": false,
    "ExecuteTime": {
     "start_time": "2023-04-19T13:16:40.930305Z",
     "end_time": "2023-04-19T13:16:40.952245Z"
    }
   }
  },
  {
   "cell_type": "code",
   "execution_count": 111,
   "outputs": [],
   "source": [
    "df.to_csv('zara_items2.csv',index=False)"
   ],
   "metadata": {
    "collapsed": false,
    "ExecuteTime": {
     "start_time": "2023-04-19T13:16:40.946262Z",
     "end_time": "2023-04-19T13:16:40.997125Z"
    }
   }
  }
 ],
 "metadata": {
  "kernelspec": {
   "display_name": "Python 3",
   "language": "python",
   "name": "python3"
  },
  "language_info": {
   "codemirror_mode": {
    "name": "ipython",
    "version": 2
   },
   "file_extension": ".py",
   "mimetype": "text/x-python",
   "name": "python",
   "nbconvert_exporter": "python",
   "pygments_lexer": "ipython2",
   "version": "2.7.6"
  }
 },
 "nbformat": 4,
 "nbformat_minor": 0
}
